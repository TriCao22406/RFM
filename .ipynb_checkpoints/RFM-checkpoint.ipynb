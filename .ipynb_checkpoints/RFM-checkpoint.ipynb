{
 "cells": [
  {
   "cell_type": "markdown",
   "metadata": {},
   "source": [
    "# Khai báo các thư viện"
   ]
  },
  {
   "cell_type": "code",
   "execution_count": 1,
   "metadata": {
    "ExecuteTime": {
     "end_time": "2023-10-20T13:46:37.019904Z",
     "start_time": "2023-10-20T13:46:34.716802Z"
    }
   },
   "outputs": [],
   "source": [
    "import pandas as pd\n",
    "from datetime import datetime"
   ]
  },
  {
   "cell_type": "markdown",
   "metadata": {},
   "source": [
    "# Lấy dữ liệu khách hàng từ file csv"
   ]
  },
  {
   "cell_type": "code",
   "execution_count": 2,
   "metadata": {
    "ExecuteTime": {
     "end_time": "2023-10-20T13:46:37.188116Z",
     "start_time": "2023-10-20T13:46:37.011293Z"
    }
   },
   "outputs": [],
   "source": [
    "df = pd.read_csv(\"sample-orders.csv\", sep=',', encoding=\"windows-1252\")"
   ]
  },
  {
   "cell_type": "markdown",
   "metadata": {},
   "source": [
    "chuyển đổi dữ liệu ngày tháng từ dạng chuỗi thành datetime object"
   ]
  },
  {
   "cell_type": "code",
   "execution_count": 3,
   "metadata": {
    "ExecuteTime": {
     "end_time": "2023-10-20T13:46:37.605539Z",
     "start_time": "2023-10-20T13:46:37.192291Z"
    }
   },
   "outputs": [
    {
     "name": "stderr",
     "output_type": "stream",
     "text": [
      "C:\\Users\\admin\\AppData\\Local\\Temp\\ipykernel_9720\\941590637.py:1: UserWarning: Could not infer format, so each element will be parsed individually, falling back to `dateutil`. To ensure parsing is consistent and as-expected, please specify a format.\n",
      "  df['ngay_dat_mua'] = pd.to_datetime(df['ngay_dat_mua'])\n"
     ]
    }
   ],
   "source": [
    "df['ngay_dat_mua'] = pd.to_datetime(df['ngay_dat_mua'])\n",
    "NOW = datetime.strptime(\"2022-12-31\", \"%Y-%m-%d\")"
   ]
  },
  {
   "cell_type": "markdown",
   "metadata": {},
   "source": [
    "# Tính các giá trị R, F, M từ dữ liệu khách hàng"
   ]
  },
  {
   "cell_type": "code",
   "execution_count": 4,
   "metadata": {
    "ExecuteTime": {
     "end_time": "2023-10-20T13:46:38.045928Z",
     "start_time": "2023-10-20T13:46:37.568792Z"
    }
   },
   "outputs": [
    {
     "data": {
      "text/html": [
       "<div>\n",
       "<style scoped>\n",
       "    .dataframe tbody tr th:only-of-type {\n",
       "        vertical-align: middle;\n",
       "    }\n",
       "\n",
       "    .dataframe tbody tr th {\n",
       "        vertical-align: top;\n",
       "    }\n",
       "\n",
       "    .dataframe thead th {\n",
       "        text-align: right;\n",
       "    }\n",
       "</style>\n",
       "<table border=\"1\" class=\"dataframe\">\n",
       "  <thead>\n",
       "    <tr style=\"text-align: right;\">\n",
       "      <th></th>\n",
       "      <th>recency</th>\n",
       "      <th>frequency</th>\n",
       "      <th>monetary</th>\n",
       "    </tr>\n",
       "    <tr>\n",
       "      <th>khach_hang</th>\n",
       "      <th></th>\n",
       "      <th></th>\n",
       "      <th></th>\n",
       "    </tr>\n",
       "  </thead>\n",
       "  <tbody>\n",
       "    <tr>\n",
       "      <th>Aaron Bergman</th>\n",
       "      <td>415</td>\n",
       "      <td>3</td>\n",
       "      <td>887</td>\n",
       "    </tr>\n",
       "    <tr>\n",
       "      <th>Aaron Hawkins</th>\n",
       "      <td>12</td>\n",
       "      <td>7</td>\n",
       "      <td>1744</td>\n",
       "    </tr>\n",
       "    <tr>\n",
       "      <th>Aaron Smayling</th>\n",
       "      <td>88</td>\n",
       "      <td>7</td>\n",
       "      <td>3050</td>\n",
       "    </tr>\n",
       "    <tr>\n",
       "      <th>Adam Bellavance</th>\n",
       "      <td>54</td>\n",
       "      <td>8</td>\n",
       "      <td>7756</td>\n",
       "    </tr>\n",
       "    <tr>\n",
       "      <th>Adam Hart</th>\n",
       "      <td>34</td>\n",
       "      <td>10</td>\n",
       "      <td>3249</td>\n",
       "    </tr>\n",
       "  </tbody>\n",
       "</table>\n",
       "</div>"
      ],
      "text/plain": [
       "                 recency  frequency  monetary\n",
       "khach_hang                                   \n",
       "Aaron Bergman        415          3       887\n",
       "Aaron Hawkins         12          7      1744\n",
       "Aaron Smayling        88          7      3050\n",
       "Adam Bellavance       54          8      7756\n",
       "Adam Hart             34         10      3249"
      ]
     },
     "execution_count": 4,
     "metadata": {},
     "output_type": "execute_result"
    }
   ],
   "source": [
    "bang_rfm = df.groupby('khach_hang').agg({'ngay_dat_mua': lambda x: (NOW - x.max()).days,  # Recency\n",
    "                                         'ma_mua_hang': lambda x: len(x),  # Frequency\n",
    "                                         'tong_gia_tri_hang': lambda x: x.sum()})\n",
    "\n",
    "bang_rfm.rename(columns={'ngay_dat_mua': 'recency',\n",
    "                         'ma_mua_hang': 'frequency',\n",
    "                         'tong_gia_tri_hang': 'monetary'}, inplace=True)\n",
    "\n",
    "bang_rfm.head()"
   ]
  },
  {
   "cell_type": "markdown",
   "metadata": {},
   "source": [
    "# Quy đổi giá trị R, F, M theo thang đo từ 1 đến 5\n",
    "Tính ngũ phân vị của R, F, M"
   ]
  },
  {
   "cell_type": "code",
   "execution_count": 5,
   "metadata": {
    "ExecuteTime": {
     "end_time": "2023-10-20T13:46:38.198475Z",
     "start_time": "2023-10-20T13:46:38.045928Z"
    }
   },
   "outputs": [
    {
     "name": "stdout",
     "output_type": "stream",
     "text": [
      "     recency  frequency  monetary\n",
      "0.2     26.0        4.0     961.4\n",
      "0.4     53.0        5.0    1739.8\n",
      "0.6    103.0        7.0    2750.8\n",
      "0.8    224.6        8.6    4282.6\n"
     ]
    }
   ],
   "source": [
    "ngu_phan_vi = bang_rfm.quantile(q=[0.2, 0.4, 0.6, 0.8])\n",
    "print(ngu_phan_vi)\n",
    "ngu_phan_vi = ngu_phan_vi.to_dict()"
   ]
  },
  {
   "cell_type": "markdown",
   "metadata": {},
   "source": [
    "Tạo hàm phân loại R, F, M theo thang 5"
   ]
  },
  {
   "cell_type": "code",
   "execution_count": 6,
   "metadata": {
    "ExecuteTime": {
     "end_time": "2023-10-20T13:46:38.310088Z",
     "start_time": "2023-10-20T13:46:38.113784Z"
    }
   },
   "outputs": [],
   "source": [
    "def ngu_phan_vi_recency(x, p, d):\n",
    "    if x <= d[p][0.2]:\n",
    "        return 5\n",
    "    elif x <= d[p][0.4]:\n",
    "        return 4\n",
    "    elif x <= d[p][0.6]:\n",
    "        return 3\n",
    "    elif x <= d[p][0.8]:\n",
    "        return 2\n",
    "    else:\n",
    "        return 1\n",
    "\n",
    "def ngu_phan_vi_frequency_monetary(x, p, d):\n",
    "    if x <= d[p][0.2]:\n",
    "        return 1\n",
    "    elif x <= d[p][0.4]:\n",
    "        return 2\n",
    "    elif x <= d[p][0.6]:\n",
    "        return 3\n",
    "    elif x <= d[p][0.8]:\n",
    "        return 4\n",
    "    else:\n",
    "        return 5"
   ]
  },
  {
   "cell_type": "markdown",
   "metadata": {},
   "source": [
    "Tiến hành phân đoạn và đưa kết quả vào cột mới"
   ]
  },
  {
   "cell_type": "code",
   "execution_count": 7,
   "metadata": {
    "ExecuteTime": {
     "end_time": "2023-10-20T13:46:38.377412Z",
     "start_time": "2023-10-20T13:46:38.155293Z"
    }
   },
   "outputs": [],
   "source": [
    "phan_doan_khach_hang = bang_rfm\n",
    "\n",
    "phan_doan_khach_hang['ngu_phan_vi_R'] = phan_doan_khach_hang['recency'].apply(ngu_phan_vi_recency,\n",
    " args=('recency', ngu_phan_vi,))\n",
    "\n",
    "phan_doan_khach_hang['ngu_phan_vi_F'] = phan_doan_khach_hang['frequency'].apply(ngu_phan_vi_frequency_monetary, args=('frequency', ngu_phan_vi,))\n",
    "\n",
    "phan_doan_khach_hang['ngu_phan_vi_M'] = phan_doan_khach_hang['monetary'].apply(ngu_phan_vi_frequency_monetary, args=('monetary', ngu_phan_vi,))"
   ]
  },
  {
   "cell_type": "markdown",
   "metadata": {},
   "source": [
    "Tổng hợp kết quả lại thành điểm RFM và xuất dữ liệu vào file output.csv"
   ]
  },
  {
   "cell_type": "code",
   "execution_count": 10,
   "metadata": {
    "ExecuteTime": {
     "end_time": "2023-10-20T13:48:27.403651Z",
     "start_time": "2023-10-20T13:48:27.327763Z"
    }
   },
   "outputs": [
    {
     "name": "stdout",
     "output_type": "stream",
     "text": [
      "                 ngu_phan_vi_R  ngu_phan_vi_F  ngu_phan_vi_M Diem_RFM\n",
      "khach_hang                                                           \n",
      "Aaron Bergman                1              1              1      111\n",
      "Aaron Hawkins                5              3              3      533\n",
      "Aaron Smayling               3              3              4      334\n",
      "Adam Bellavance              3              4              5      345\n",
      "Adam Hart                    4              5              4      454\n"
     ]
    }
   ],
   "source": [
    "phan_doan_khach_hang['Diem_RFM'] = phan_doan_khach_hang.ngu_phan_vi_R.map(str) + \\\n",
    "                                   phan_doan_khach_hang.ngu_phan_vi_F.map(str) + \\\n",
    "                                   phan_doan_khach_hang.ngu_phan_vi_M.map(str)\n",
    "\n",
    "phan_doan_khach_hang.to_csv(\"output.csv\")\n",
    "print(phan_doan_khach_hang.iloc[:5, -4:])\n"
   ]
  }
 ],
 "metadata": {
  "kernelspec": {
   "display_name": "Python 3 (ipykernel)",
   "language": "python",
   "name": "python3"
  },
  "language_info": {
   "codemirror_mode": {
    "name": "ipython",
    "version": 3
   },
   "file_extension": ".py",
   "mimetype": "text/x-python",
   "name": "python",
   "nbconvert_exporter": "python",
   "pygments_lexer": "ipython3",
   "version": "3.10.13"
  }
 },
 "nbformat": 4,
 "nbformat_minor": 1
}
