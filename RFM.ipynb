{
 "cells": [
  {
   "cell_type": "markdown",
   "source": [
    "# Khai báo các thư viện"
   ],
   "metadata": {
    "collapsed": false
   }
  },
  {
   "cell_type": "code",
   "execution_count": 68,
   "outputs": [],
   "source": [
    "import pandas as pd\n",
    "from datetime import datetime"
   ],
   "metadata": {
    "collapsed": false,
    "ExecuteTime": {
     "start_time": "2023-10-20T01:10:52.443306Z",
     "end_time": "2023-10-20T01:10:53.152829Z"
    }
   }
  },
  {
   "cell_type": "markdown",
   "source": [
    "# Lấy dữ liệu khách hàng từ file csv"
   ],
   "metadata": {
    "collapsed": false
   }
  },
  {
   "cell_type": "code",
   "execution_count": 69,
   "outputs": [],
   "source": [
    "df = pd.read_csv(\"sample-orders.csv\", sep=',', encoding=\"windows-1252\")"
   ],
   "metadata": {
    "collapsed": false,
    "ExecuteTime": {
     "start_time": "2023-10-20T01:10:52.803711Z",
     "end_time": "2023-10-20T01:10:53.928626Z"
    }
   }
  },
  {
   "cell_type": "markdown",
   "source": [
    "chuyển đổi dữ liệu ngày tháng từ dạng chuỗi thành datetime object"
   ],
   "metadata": {
    "collapsed": false
   }
  },
  {
   "cell_type": "code",
   "execution_count": 70,
   "outputs": [],
   "source": [
    "df['ngay_dat_mua'] = pd.to_datetime(df['ngay_dat_mua'])\n",
    "NOW = datetime.strptime(\"2022-12-31\", \"%Y-%m-%d\")"
   ],
   "metadata": {
    "collapsed": false,
    "ExecuteTime": {
     "start_time": "2023-10-20T01:10:53.937383Z",
     "end_time": "2023-10-20T01:10:54.604982Z"
    }
   }
  },
  {
   "cell_type": "markdown",
   "source": [
    "# Tính các giá trị R, F, M từ dữ liệu khách hàng"
   ],
   "metadata": {
    "collapsed": false
   }
  },
  {
   "cell_type": "code",
   "execution_count": 71,
   "outputs": [
    {
     "data": {
      "text/plain": "                 recency  frequency  monetary_value\nkhach_hang                                         \nAaron Bergman        415          3             887\nAaron Hawkins         12          7            1744\nAaron Smayling        88          7            3050\nAdam Bellavance       54          8            7756\nAdam Hart             34         10            3249",
      "text/html": "<div>\n<style scoped>\n    .dataframe tbody tr th:only-of-type {\n        vertical-align: middle;\n    }\n\n    .dataframe tbody tr th {\n        vertical-align: top;\n    }\n\n    .dataframe thead th {\n        text-align: right;\n    }\n</style>\n<table border=\"1\" class=\"dataframe\">\n  <thead>\n    <tr style=\"text-align: right;\">\n      <th></th>\n      <th>recency</th>\n      <th>frequency</th>\n      <th>monetary_value</th>\n    </tr>\n    <tr>\n      <th>khach_hang</th>\n      <th></th>\n      <th></th>\n      <th></th>\n    </tr>\n  </thead>\n  <tbody>\n    <tr>\n      <th>Aaron Bergman</th>\n      <td>415</td>\n      <td>3</td>\n      <td>887</td>\n    </tr>\n    <tr>\n      <th>Aaron Hawkins</th>\n      <td>12</td>\n      <td>7</td>\n      <td>1744</td>\n    </tr>\n    <tr>\n      <th>Aaron Smayling</th>\n      <td>88</td>\n      <td>7</td>\n      <td>3050</td>\n    </tr>\n    <tr>\n      <th>Adam Bellavance</th>\n      <td>54</td>\n      <td>8</td>\n      <td>7756</td>\n    </tr>\n    <tr>\n      <th>Adam Hart</th>\n      <td>34</td>\n      <td>10</td>\n      <td>3249</td>\n    </tr>\n  </tbody>\n</table>\n</div>"
     },
     "execution_count": 71,
     "metadata": {},
     "output_type": "execute_result"
    }
   ],
   "source": [
    "bang_rfm = df.groupby('khach_hang').agg({'ngay_dat_mua': lambda x: (NOW - x.max()).days,  # Recency\n",
    "                                         'ma_mua_hang': lambda x: len(x),  # Frequency\n",
    "                                         'tong_gia_tri_hang': lambda x: x.sum()})\n",
    "\n",
    "bang_rfm.rename(columns={'ngay_dat_mua': 'recency',\n",
    "                         'ma_mua_hang': 'frequency',\n",
    "                         'tong_gia_tri_hang': 'monetary_value'}, inplace=True)\n",
    "\n",
    "bang_rfm.head()"
   ],
   "metadata": {
    "collapsed": false,
    "ExecuteTime": {
     "start_time": "2023-10-20T01:10:54.520539Z",
     "end_time": "2023-10-20T01:10:55.623762Z"
    }
   }
  },
  {
   "cell_type": "markdown",
   "source": [
    "# Quy đổi giá trị R, F, M theo thang đo từ 1 đến 5\n",
    "Tính ngũ phân vị của R, F, M"
   ],
   "metadata": {
    "collapsed": false
   }
  },
  {
   "cell_type": "code",
   "execution_count": 72,
   "outputs": [
    {
     "name": "stdout",
     "output_type": "stream",
     "text": [
      "     recency  frequency  monetary_value\n",
      "0.2     26.0        4.0           961.4\n",
      "0.4     53.0        5.0          1739.8\n",
      "0.6    103.0        7.0          2750.8\n",
      "0.8    224.6        8.6          4282.6\n"
     ]
    }
   ],
   "source": [
    "ngu_phan_vi = bang_rfm.quantile(q=[0.2, 0.4, 0.6, 0.8])\n",
    "print(ngu_phan_vi)\n",
    "ngu_phan_vi = ngu_phan_vi.to_dict()"
   ],
   "metadata": {
    "collapsed": false,
    "ExecuteTime": {
     "start_time": "2023-10-20T01:10:55.522465Z",
     "end_time": "2023-10-20T01:10:55.654270Z"
    }
   }
  },
  {
   "cell_type": "markdown",
   "source": [
    "Tạo hàm phân loại R, F, M theo thang 5"
   ],
   "metadata": {
    "collapsed": false
   }
  },
  {
   "cell_type": "code",
   "execution_count": 73,
   "outputs": [],
   "source": [
    "def ngu_phan_vi_recency(x, p, d):\n",
    "    if x <= d[p][0.2]:\n",
    "        return 5\n",
    "    elif x <= d[p][0.4]:\n",
    "        return 4\n",
    "    elif x <= d[p][0.6]:\n",
    "        return 3\n",
    "    elif x <= d[p][0.8]:\n",
    "        return 2\n",
    "    else:\n",
    "        return 1\n",
    "\n",
    "def ngu_phan_vi_frequency_monetary(x, p, d):\n",
    "    if x <= d[p][0.2]:\n",
    "        return 1\n",
    "    elif x <= d[p][0.4]:\n",
    "        return 2\n",
    "    elif x <= d[p][0.6]:\n",
    "        return 3\n",
    "    elif x <= d[p][0.8]:\n",
    "        return 4\n",
    "    else:\n",
    "        return 5"
   ],
   "metadata": {
    "collapsed": false,
    "ExecuteTime": {
     "start_time": "2023-10-20T01:10:55.628342Z",
     "end_time": "2023-10-20T01:10:56.381125Z"
    }
   }
  },
  {
   "cell_type": "markdown",
   "source": [
    "Tiến hành phân đoạn và đưa kết quả vào cột mới"
   ],
   "metadata": {
    "collapsed": false
   }
  },
  {
   "cell_type": "code",
   "execution_count": 74,
   "outputs": [],
   "source": [
    "phan_doan_khach_hang = bang_rfm\n",
    "\n",
    "phan_doan_khach_hang['ngu_phan_vi_R'] = phan_doan_khach_hang['recency'].apply(ngu_phan_vi_recency, args=('recency', ngu_phan_vi,))\n",
    "\n",
    "phan_doan_khach_hang['ngu_phan_vi_F'] = phan_doan_khach_hang['frequency'].apply(ngu_phan_vi_frequency_monetary, args=('frequency', ngu_phan_vi,))\n",
    "\n",
    "phan_doan_khach_hang['ngu_phan_vi_M'] = phan_doan_khach_hang['monetary_value'].apply(ngu_phan_vi_frequency_monetary, args=('monetary_value', ngu_phan_vi,))"
   ],
   "metadata": {
    "collapsed": false,
    "ExecuteTime": {
     "start_time": "2023-10-20T01:10:55.710897Z",
     "end_time": "2023-10-20T01:10:56.381125Z"
    }
   }
  },
  {
   "cell_type": "markdown",
   "source": [
    "Tổng hợp kết quả lại thành điểm RFM và xuất dữ liệu vào file output.csv"
   ],
   "metadata": {
    "collapsed": false
   }
  },
  {
   "cell_type": "code",
   "execution_count": 75,
   "outputs": [],
   "source": [
    "phan_doan_khach_hang['Diem_RFM'] = phan_doan_khach_hang.ngu_phan_vi_R.map(str) + \\\n",
    "                                           phan_doan_khach_hang.ngu_phan_vi_F.map(str) + \\\n",
    "                                           phan_doan_khach_hang.ngu_phan_vi_M.map(str)\n",
    "\n",
    "    # Ghi bảng phan_doan_khach_hang vào tệp CSV outputfile với dấu phân cách ,\n",
    "phan_doan_khach_hang.to_csv(\"output.csv\")"
   ],
   "metadata": {
    "collapsed": false,
    "ExecuteTime": {
     "start_time": "2023-10-20T01:10:55.783011Z",
     "end_time": "2023-10-20T01:10:56.381125Z"
    }
   }
  }
 ],
 "metadata": {
  "kernelspec": {
   "display_name": "Python 3",
   "language": "python",
   "name": "python3"
  },
  "language_info": {
   "codemirror_mode": {
    "name": "ipython",
    "version": 2
   },
   "file_extension": ".py",
   "mimetype": "text/x-python",
   "name": "python",
   "nbconvert_exporter": "python",
   "pygments_lexer": "ipython2",
   "version": "2.7.6"
  }
 },
 "nbformat": 4,
 "nbformat_minor": 0
}
